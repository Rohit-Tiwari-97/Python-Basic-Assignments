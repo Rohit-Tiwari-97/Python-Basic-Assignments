{
 "cells": [
  {
   "cell_type": "markdown",
   "id": "c1ab013c",
   "metadata": {},
   "source": [
    "## Assignment 1  - Solution (Python Basic Assignment)"
   ]
  },
  {
   "cell_type": "markdown",
   "id": "c3bf1bac",
   "metadata": {},
   "source": [
    "### Q1 - In the below elements which of them are values or an expression? eg:- values can be integer or string and expressions will be mathematical operators.\n",
    "\n",
    "- a)  * \n",
    "- b) 'hello'\n",
    "- c) -87.8\n",
    "- d) - \n",
    "- e) / \n",
    "- f) +\n",
    "- g) 6 "
   ]
  },
  {
   "cell_type": "markdown",
   "id": "77fe6e10",
   "metadata": {},
   "source": [
    "### Answer:-\n",
    "\n",
    "- a) Expression\n",
    "- b) Value\n",
    "- c) Value\n",
    "- d) Expression\n",
    "- e) Expression\n",
    "- f) Expression\n",
    "- g) Value"
   ]
  },
  {
   "cell_type": "markdown",
   "id": "326f22ca",
   "metadata": {},
   "source": [
    "### Q2 - What is the difference between string and variable?"
   ]
  },
  {
   "cell_type": "markdown",
   "id": "00bc7993",
   "metadata": {},
   "source": [
    "### Answer:-\n",
    "\n",
    "A variable is a name given to a memory location. It is the basic unit of storage in a program.it can store the information, and a String is a sequence/collection of  Unicode characters and it is a type of information we will store in a Variable.\n",
    "\n",
    "Example:-\n",
    "name =\"rohit\"\n",
    "In above example, name is the Variable and \"rohit\" is a string."
   ]
  },
  {
   "cell_type": "markdown",
   "id": "6960b609",
   "metadata": {},
   "source": [
    "### Q3 - Describe three different data types."
   ]
  },
  {
   "cell_type": "markdown",
   "id": "382a2619",
   "metadata": {},
   "source": [
    "### Answer:- \n",
    "\n",
    "1.Numeric:\n",
    "\n",
    "In Python, numeric data type represent the data which has numeric value. Numeric value can be integer, floating number or   even complex numbers. These values are defined as int, float and complex class in Python.\n",
    "\n",
    "a)Integers –\n",
    "\n",
    "This value is represented by int class. It contains positive or negative whole numbers (without fraction or decimal).       In Python there is no limit to how long an integer value can be.\n",
    "Ex : 123,1234567, 432 etc.\n",
    "\n",
    "b)Float –\n",
    "\n",
    "This value is represented by float class. It is a real number with floating point representation. It is specified by a     decimal point. Optionally, the character e or E followed by a positive or negative integer may be appended to specify       scientific notation.\n",
    "Ex : 12.3,123.45 etc.\n",
    "\n",
    "d)Complex Numbers –\n",
    "Complex number is represented by complex class. It is specified as (real part) + (imaginary part)j. \n",
    "Ex : 2+3j\n",
    "\n",
    "2.Sequence Type:\n",
    "\n",
    "In Python, sequence is the ordered collection of similar or different data types. Sequences allows to store multiple       values in an organized and efficient fashion. There are several sequence types in Python –\n",
    "\n",
    "* String\n",
    "* List\n",
    "* Tuple\n",
    "\n",
    "String –\n",
    "\n",
    "In Python, Strings are arrays of bytes representing Unicode characters. A string is a collection of one or more             characters put in a single quote, double-quote or triple quote. In python there is no character data type, a character is   a string of length one. It is represented by str class.\n",
    "Ex : 'rohit',\"1234\" etc\n",
    "\n",
    "List –\n",
    "\n",
    "Lists are just like the arrays, declared in other languages which is a ordered collection of data. It is very flexible as   the items in a list do not need to be of the same type.\n",
    "Ex: [3,4,5,'abc',4.5,2+3j ]\n",
    "\n",
    "Tuple –\n",
    "\n",
    "Just like list, tuple is also an ordered collection of Python objects. The only difference between tuple and list is that   tuples are immutable i.e. tuples cannot be modified after it is created. It is represented by tuple class.\n",
    "Ex: (3,4,5,'abc',4.5,2+3j)\n",
    "\n",
    "3.Boolean:\n",
    "\n",
    "Data type with one of the two built-in values, True or False. Boolean objects that are equal to True are truthy (true),    and those equal to False are falsy (false). But non-Boolean objects can be evaluated in Boolean context as well and         determined to be true or false. It is denoted by the class bool.\n",
    "Note – True and False with capital ‘T’ and ‘F’ are valid booleans otherwise python will throw an error."
   ]
  },
  {
   "cell_type": "markdown",
   "id": "03c2700d",
   "metadata": {},
   "source": [
    "### Q4 - What is an expression made up of? What do all expressions do?"
   ]
  },
  {
   "cell_type": "markdown",
   "id": "aecdec58",
   "metadata": {},
   "source": [
    "### Answer:- \n",
    "\n",
    "Expression: \n",
    "\n",
    "- An expression is a combination of operators  and operands, constants and variables. \n",
    "- An expression may consist of one or more operands, and zero or more operators to produce a value.\n",
    "- In any programming language, an expression is evaluated as per the precedence of its operators. So that if there is more   than one operator in an expression, their precedence decides which operation will be performed first. "
   ]
  },
  {
   "cell_type": "markdown",
   "id": "e7bc47f3",
   "metadata": {},
   "source": [
    "### Q5 - This assignment statements, like spam = 10. What is the difference between an expression and a statement?"
   ]
  },
  {
   "cell_type": "markdown",
   "id": "e2f57d78",
   "metadata": {},
   "source": [
    "### Answer:-\n",
    "\n",
    "A statement performs some action such as assignment,printing values, looping, or if statement. On the other hand, expressions also produce values and we can assign these values to new variables."
   ]
  },
  {
   "cell_type": "markdown",
   "id": "e69a735c",
   "metadata": {},
   "source": [
    "### Q6 - After running the following code, what does the variable bacon contain?\n",
    "- bacon = 22\n",
    "- bacon + 1"
   ]
  },
  {
   "cell_type": "markdown",
   "id": "518d15c1",
   "metadata": {},
   "source": [
    "### Answer:- \n",
    "\n",
    "bacon value remains 22 since we are not updating the variable bacon."
   ]
  },
  {
   "cell_type": "code",
   "execution_count": 17,
   "id": "f65ef9dd",
   "metadata": {},
   "outputs": [],
   "source": [
    "bacon = 22"
   ]
  },
  {
   "cell_type": "code",
   "execution_count": 18,
   "id": "dff1d33e",
   "metadata": {},
   "outputs": [
    {
     "data": {
      "text/plain": [
       "22"
      ]
     },
     "execution_count": 18,
     "metadata": {},
     "output_type": "execute_result"
    }
   ],
   "source": [
    "bacon"
   ]
  },
  {
   "cell_type": "code",
   "execution_count": 19,
   "id": "0919ab5a",
   "metadata": {},
   "outputs": [
    {
     "data": {
      "text/plain": [
       "23"
      ]
     },
     "execution_count": 19,
     "metadata": {},
     "output_type": "execute_result"
    }
   ],
   "source": [
    "bacon + 1"
   ]
  },
  {
   "cell_type": "code",
   "execution_count": 20,
   "id": "571e1c46",
   "metadata": {},
   "outputs": [
    {
     "data": {
      "text/plain": [
       "22"
      ]
     },
     "execution_count": 20,
     "metadata": {},
     "output_type": "execute_result"
    }
   ],
   "source": [
    "bacon"
   ]
  },
  {
   "cell_type": "markdown",
   "id": "df6efdb1",
   "metadata": {},
   "source": [
    "### Q7- What should the values of the following two terms be?\n",
    "- 'spam' + 'spamspam'\n",
    "- 'spam'* 3"
   ]
  },
  {
   "cell_type": "markdown",
   "id": "7a09a256",
   "metadata": {},
   "source": [
    "### Answer:-\n",
    "\n",
    "- 'spamspamspam'\n",
    "- 'spamspamspam'"
   ]
  },
  {
   "cell_type": "code",
   "execution_count": 21,
   "id": "6ff40e28",
   "metadata": {},
   "outputs": [
    {
     "data": {
      "text/plain": [
       "'spamspamspam'"
      ]
     },
     "execution_count": 21,
     "metadata": {},
     "output_type": "execute_result"
    }
   ],
   "source": [
    "'spam' + 'spamspam'"
   ]
  },
  {
   "cell_type": "code",
   "execution_count": 22,
   "id": "c39c06b5",
   "metadata": {},
   "outputs": [
    {
     "data": {
      "text/plain": [
       "'spamspamspam'"
      ]
     },
     "execution_count": 22,
     "metadata": {},
     "output_type": "execute_result"
    }
   ],
   "source": [
    "'spam'* 3"
   ]
  },
  {
   "cell_type": "markdown",
   "id": "5e01b5b5",
   "metadata": {},
   "source": [
    "### Q8 - Why is eggs a valid variable name while 100 is invalid?"
   ]
  },
  {
   "cell_type": "markdown",
   "id": "c470b4ce",
   "metadata": {},
   "source": [
    "### Answer: - \n",
    "\n",
    "- Because A variable name must start with a letter or the underscore character.\n",
    "- A variable name cannot start with a number.\n",
    "- A variable name can only contain alpha-numeric characters and underscores (A-z, 0-9, and _ )"
   ]
  },
  {
   "cell_type": "markdown",
   "id": "52afcc61",
   "metadata": {},
   "source": [
    "### Q9 - What three functions can be used to get the integer, floating-point number, or string version of a value?"
   ]
  },
  {
   "cell_type": "markdown",
   "id": "89353f26",
   "metadata": {},
   "source": [
    "### Answer:- \n",
    "\n",
    "str(), int(), float()"
   ]
  },
  {
   "cell_type": "markdown",
   "id": "79dd2c75",
   "metadata": {},
   "source": [
    "### Q10 - Why does this expression cause an error? How can you fix it? \n",
    "- 'I have eaten' + 99 +' burritos'"
   ]
  },
  {
   "cell_type": "markdown",
   "id": "044367c6",
   "metadata": {},
   "source": [
    "### Answer:-\n",
    "\n",
    "Because 99 is integer we have to convert in to string to cancatinate."
   ]
  },
  {
   "cell_type": "code",
   "execution_count": 23,
   "id": "aee1b537",
   "metadata": {},
   "outputs": [
    {
     "data": {
      "text/plain": [
       "'I have eaten99 burritos'"
      ]
     },
     "execution_count": 23,
     "metadata": {},
     "output_type": "execute_result"
    }
   ],
   "source": [
    "'I have eaten' + str(99) +' burritos'"
   ]
  },
  {
   "cell_type": "code",
   "execution_count": null,
   "id": "1a3facdd",
   "metadata": {},
   "outputs": [],
   "source": []
  }
 ],
 "metadata": {
  "kernelspec": {
   "display_name": "Python 3 (ipykernel)",
   "language": "python",
   "name": "python3"
  },
  "language_info": {
   "codemirror_mode": {
    "name": "ipython",
    "version": 3
   },
   "file_extension": ".py",
   "mimetype": "text/x-python",
   "name": "python",
   "nbconvert_exporter": "python",
   "pygments_lexer": "ipython3",
   "version": "3.9.7"
  }
 },
 "nbformat": 4,
 "nbformat_minor": 5
}
