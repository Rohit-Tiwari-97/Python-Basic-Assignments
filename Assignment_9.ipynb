{
 "cells": [
  {
   "cell_type": "markdown",
   "id": "0c19e14a",
   "metadata": {},
   "source": [
    "# Assignment - 9 Solution"
   ]
  },
  {
   "cell_type": "markdown",
   "id": "d38a2a9b",
   "metadata": {},
   "source": [
    "### Q1. To what does a relative path refer?"
   ]
  },
  {
   "cell_type": "markdown",
   "id": "041be676",
   "metadata": {},
   "source": [
    "- A relative path refers to a location that is relative to a current directory. Relative paths make use of two special symbols, a dot (.) and a double-dot (..), which translate into the current directory and the parent directory. Double dots are used for moving up in the hierarchy. A single dot represents the current directory itself."
   ]
  },
  {
   "cell_type": "markdown",
   "id": "b9c71cd6",
   "metadata": {},
   "source": [
    "### Q2. What does an absolute path start with your operating system?"
   ]
  },
  {
   "cell_type": "markdown",
   "id": "6f2cf895",
   "metadata": {},
   "source": [
    "- An absolute path refers to the complete details needed to locate a file or folder, starting from the root element and ending with the other subdirectories. Absolute paths are used in websites and operating systems for locating files and folders.\n",
    "- An absolute path is also known as an absolute pathname or full path.\n",
    "- In Linux based systems the absolute path starts with /. Where as in Windows based systems absolute path starts with C:"
   ]
  },
  {
   "cell_type": "markdown",
   "id": "f7fad763",
   "metadata": {},
   "source": [
    "### Q3. What do the functions os.getcwd() and os.chdir() do?"
   ]
  },
  {
   "cell_type": "markdown",
   "id": "cfe9f3ca",
   "metadata": {},
   "source": [
    "- OS module in Python provides functions for interacting with the operating system. OS, comes under Python’s standard utility modules. This module provides a portable way of using operating system dependent functionality.\n",
    "\n",
    "###### os.getcwd ()\n",
    "- os.getcwd() method tells us the location of current working directory (CWD).\n",
    "\n",
    "- Syntax: os.getcwd()\n",
    "\n",
    "- Parameter: No parameter is required.\n",
    "\n",
    "- Return Value: This method returns a string which represents the current working directory.\n",
    "\n",
    "##### os.chdir()\n",
    "- os.chdir() method in Python used to change the current working directory to specified path. It takes only a single argument as new directory path.\n",
    " \n",
    "\n",
    "- Syntax: os.chdir(path)\n",
    "\n",
    "##### Parameters: \n",
    "\n",
    "- path: A complete path of directory to be changed to new directory path.\n",
    "- Returns: Doesn’t return any value\n"
   ]
  },
  {
   "cell_type": "code",
   "execution_count": 2,
   "id": "da6dd95a",
   "metadata": {},
   "outputs": [
    {
     "name": "stdout",
     "output_type": "stream",
     "text": [
      "C:\\Users\\rtiwa\n",
      "C:\\Users\\rtiwa\\Documents\n"
     ]
    }
   ],
   "source": [
    "import os\n",
    "print(os.getcwd()) # Prints the current Working Directory\n",
    "path = r'C:\\Users\\rtiwa\\Documents'\n",
    "os.chdir(path)\n",
    "print(os.getcwd())"
   ]
  },
  {
   "cell_type": "markdown",
   "id": "f0cf3a57",
   "metadata": {},
   "source": [
    "### Q4. What are the . and .. folders?"
   ]
  },
  {
   "cell_type": "markdown",
   "id": "d91540ec",
   "metadata": {},
   "source": [
    "- Ans: . Represents the Current Directory Whereas .. Represents the Parent Directory of the Current Directory\n",
    "##### For Example:\n",
    "\n",
    "- if the below path is my absolute path:\n",
    "- C:\\\\Users\\\\rtiwa\\\\Documents\\\\Assignments\n",
    "- Then . represents the path C:\\\\Users\\\\rtiwa\\\\Documents\\\\Assignments\n",
    "- And .. represents the path C:\\\\Users\\\\rtiwa\\\\Documents"
   ]
  },
  {
   "cell_type": "markdown",
   "id": "115ba4d9",
   "metadata": {},
   "source": [
    "### Q5. In C:\\bacon\\eggs\\spam.txt, which part is the dir name, and which part is the base name?"
   ]
  },
  {
   "cell_type": "markdown",
   "id": "1d1fb186",
   "metadata": {},
   "source": [
    "- The dir name is C:\\\\bacon\\\\eggs\n",
    "- The Base name is spam.txt"
   ]
  },
  {
   "cell_type": "markdown",
   "id": "9a70ec30",
   "metadata": {},
   "source": [
    "### Q6. What are the three “mode” arguments that can be passed to the open() function?"
   ]
  },
  {
   "cell_type": "markdown",
   "id": "5166487e",
   "metadata": {},
   "source": [
    "- ‘r’ – Read Mode: This is the default mode for open(). The file is opened and a pointer is positioned at the beginning of the file’s content.\n",
    "- ‘w’ – Write Mode: Using this mode will overwrite any existing content in a file. If the given file does not exist, a new one will be created.\n",
    "- ‘r+’ – Read/Write Mode: Use this mode if you need to simultaneously read and write to a file."
   ]
  },
  {
   "cell_type": "markdown",
   "id": "42555509",
   "metadata": {},
   "source": [
    "### Q7. What happens if an existing file is opened in write mode?"
   ]
  },
  {
   "cell_type": "markdown",
   "id": "8f040047",
   "metadata": {},
   "source": [
    "- Using this mode will overwrite any existing content in a file. If the given file does not exist, a new one will be created."
   ]
  },
  {
   "cell_type": "markdown",
   "id": "65bcc9c7",
   "metadata": {},
   "source": [
    "### Q8. How do you tell the difference between read() and readlines()?"
   ]
  },
  {
   "cell_type": "markdown",
   "id": "9941429d",
   "metadata": {},
   "source": [
    "- The main difference is that read() will read the whole file at once and then print out the first characters that take up as many bytes as you specify in the parenthesis\n",
    "\n",
    "- Whereas the readline() that will read and print out only the first characters that take up as many bytes as you specify in the parenthesis. You may want to use readline() when you're reading files that are too big for your RAM.\n",
    "- The read() would treat each character in the file separately, meaning that the iteration would happen for every character.\n",
    "- The readline() function, on the other hand, only reads a single line of the file. This means that if the first line of the file were three lines long, the readline() function would only parse (or iterate/operate) on the first line of the file."
   ]
  },
  {
   "cell_type": "markdown",
   "id": "06f116bd",
   "metadata": {},
   "source": [
    "### Q9. What data structure does a shelf value resemble?"
   ]
  },
  {
   "cell_type": "markdown",
   "id": "422300d2",
   "metadata": {},
   "source": [
    "- it represents dictionary.\n",
    "- it contains key and values."
   ]
  },
  {
   "cell_type": "code",
   "execution_count": null,
   "id": "5bf60ce8",
   "metadata": {},
   "outputs": [],
   "source": []
  }
 ],
 "metadata": {
  "kernelspec": {
   "display_name": "Python 3 (ipykernel)",
   "language": "python",
   "name": "python3"
  },
  "language_info": {
   "codemirror_mode": {
    "name": "ipython",
    "version": 3
   },
   "file_extension": ".py",
   "mimetype": "text/x-python",
   "name": "python",
   "nbconvert_exporter": "python",
   "pygments_lexer": "ipython3",
   "version": "3.9.7"
  }
 },
 "nbformat": 4,
 "nbformat_minor": 5
}
