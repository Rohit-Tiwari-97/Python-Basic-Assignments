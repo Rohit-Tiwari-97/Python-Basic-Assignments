{
 "cells": [
  {
   "cell_type": "markdown",
   "id": "e70bfbf3",
   "metadata": {},
   "source": [
    "# Assignment_2 Solution"
   ]
  },
  {
   "cell_type": "markdown",
   "id": "a339dbf2",
   "metadata": {},
   "source": [
    "### Q1. What are the two values of the Boolean data type? How do you write them?"
   ]
  },
  {
   "cell_type": "markdown",
   "id": "597f25cc",
   "metadata": {},
   "source": [
    "### Answer\n",
    "\n",
    "- True\n",
    "- False"
   ]
  },
  {
   "cell_type": "markdown",
   "id": "19a01582",
   "metadata": {},
   "source": [
    "### Q2. What are the three different types of Boolean operators?\n"
   ]
  },
  {
   "cell_type": "markdown",
   "id": "a3326550",
   "metadata": {},
   "source": [
    "### Answer - \n",
    "\n",
    "- and\n",
    "- or\n",
    "- not"
   ]
  },
  {
   "cell_type": "markdown",
   "id": "8ead923c",
   "metadata": {},
   "source": [
    "### Q3. Make a list of each Boolean operator&#39;s truth tables (i.e. every possible combination of Boolean values for the operator and what it evaluate )."
   ]
  },
  {
   "cell_type": "markdown",
   "id": "7905726a",
   "metadata": {},
   "source": [
    "### Answer - "
   ]
  },
  {
   "cell_type": "markdown",
   "id": "a0df1faa",
   "metadata": {},
   "source": [
    "#### The and Boolean Operator - \n",
    "\n",
    "- The and operator takes two arguments. It evaluates to False unless both inputs are True. You could define the behavior of and with the following truth table:\n",
    "\n",
    "#### Truth Table - \n",
    "\n",
    "\n",
    "| A | B | A and B |\n",
    "| :- | -: | :-: |\n",
    "| True | True | True\n",
    "| False | True | False\n",
    "| True | False | False\n",
    "| False | False | False\n",
    "\n",
    "#### The or Boolean Operator - \n",
    "\n",
    "- The value of the or operator is True unless both of its inputs are False. The or operator could also be defined by the following truth table:\n",
    "\n",
    "#### Truth Table - \n",
    "\n",
    "| A | B | A or B |\n",
    "| :- | -: | :-: |\n",
    "| True | True | True\n",
    "| False | True | True\n",
    "| True | False | True\n",
    "| False | False | False\n",
    "\n",
    "#### The not Boolean Operator - \n",
    "\n",
    "- The only Boolean operator with one argument is not. It takes one argument and returns the opposite result: False for True and True for False. Here it is in a truth table:\n",
    "\n",
    "#### Truth Table - \n",
    "\n",
    "| A | not A | \n",
    "| :- | -: | \n",
    "| True | False\n",
    "| False | True "
   ]
  },
  {
   "cell_type": "markdown",
   "id": "4a5b2837",
   "metadata": {},
   "source": [
    "### Q4. What are the values of the following expressions?\n",
    "\n",
    "- (5 > 4) and (3 == 5)\n",
    "- not(5 > 4)\n",
    "- (5 > 4) or (3 == 5)\n",
    "- not ((5 > 4) or (3 == 5))\n",
    "- (True and True) and (True == False)\n",
    "- (not False) or (not True)"
   ]
  },
  {
   "cell_type": "markdown",
   "id": "cca97db7",
   "metadata": {},
   "source": [
    "### Answer - \n",
    "- False\n",
    "- False\n",
    "- True\n",
    "- False\n",
    "- False\n",
    "- True"
   ]
  },
  {
   "cell_type": "code",
   "execution_count": 1,
   "id": "d9564719",
   "metadata": {},
   "outputs": [
    {
     "data": {
      "text/plain": [
       "False"
      ]
     },
     "execution_count": 1,
     "metadata": {},
     "output_type": "execute_result"
    }
   ],
   "source": [
    "(5 > 4) and (3 == 5)"
   ]
  },
  {
   "cell_type": "code",
   "execution_count": 2,
   "id": "d944aa61",
   "metadata": {},
   "outputs": [
    {
     "data": {
      "text/plain": [
       "False"
      ]
     },
     "execution_count": 2,
     "metadata": {},
     "output_type": "execute_result"
    }
   ],
   "source": [
    " not (5 > 4)"
   ]
  },
  {
   "cell_type": "code",
   "execution_count": 3,
   "id": "3df004ca",
   "metadata": {},
   "outputs": [
    {
     "data": {
      "text/plain": [
       "True"
      ]
     },
     "execution_count": 3,
     "metadata": {},
     "output_type": "execute_result"
    }
   ],
   "source": [
    "(5 > 4) or (3 == 5)"
   ]
  },
  {
   "cell_type": "code",
   "execution_count": 4,
   "id": "8d52c859",
   "metadata": {},
   "outputs": [
    {
     "data": {
      "text/plain": [
       "False"
      ]
     },
     "execution_count": 4,
     "metadata": {},
     "output_type": "execute_result"
    }
   ],
   "source": [
    "not ((5 > 4) or (3 == 5))"
   ]
  },
  {
   "cell_type": "code",
   "execution_count": 5,
   "id": "a9d28483",
   "metadata": {},
   "outputs": [
    {
     "data": {
      "text/plain": [
       "False"
      ]
     },
     "execution_count": 5,
     "metadata": {},
     "output_type": "execute_result"
    }
   ],
   "source": [
    "(True and True) and (True == False)"
   ]
  },
  {
   "cell_type": "code",
   "execution_count": 6,
   "id": "6456bddb",
   "metadata": {},
   "outputs": [
    {
     "data": {
      "text/plain": [
       "True"
      ]
     },
     "execution_count": 6,
     "metadata": {},
     "output_type": "execute_result"
    }
   ],
   "source": [
    "(not False) or (not True)"
   ]
  },
  {
   "cell_type": "markdown",
   "id": "9a60242d",
   "metadata": {},
   "source": [
    "### Q5. What are the six comparison operators?"
   ]
  },
  {
   "cell_type": "markdown",
   "id": "6aa1bebe",
   "metadata": {},
   "source": [
    "### Answer - \n",
    "\n",
    "##### Python has six comparison operators, which are as follows:\n",
    "\n",
    "- Less than ( < )\n",
    "- Less than or equal to (<=)\n",
    "- Greater than (>)\n",
    "- Greater than or equal to (>=)\n",
    "- Equal to ( == )\n",
    "- Not equal to ( != )"
   ]
  },
  {
   "cell_type": "code",
   "execution_count": 7,
   "id": "ddeb21f6",
   "metadata": {},
   "outputs": [
    {
     "name": "stdout",
     "output_type": "stream",
     "text": [
      "False\n",
      "True\n"
     ]
    }
   ],
   "source": [
    "# Example - Less than ( < )\n",
    "\n",
    "print(6<5)\n",
    "print(4<5)"
   ]
  },
  {
   "cell_type": "code",
   "execution_count": 8,
   "id": "8bf25da3",
   "metadata": {},
   "outputs": [
    {
     "name": "stdout",
     "output_type": "stream",
     "text": [
      "False\n",
      "True\n",
      "True\n"
     ]
    }
   ],
   "source": [
    "# Example - Less than or equal ( <= )\n",
    "\n",
    "print(6<=5)\n",
    "print(4<=5)\n",
    "print(5<=5)"
   ]
  },
  {
   "cell_type": "code",
   "execution_count": 9,
   "id": "391c1eba",
   "metadata": {},
   "outputs": [
    {
     "name": "stdout",
     "output_type": "stream",
     "text": [
      "True\n",
      "False\n"
     ]
    }
   ],
   "source": [
    "# Example - Greater than (>)\n",
    "\n",
    "print(6>5)\n",
    "print(4>5)"
   ]
  },
  {
   "cell_type": "code",
   "execution_count": 10,
   "id": "4955a55d",
   "metadata": {},
   "outputs": [
    {
     "name": "stdout",
     "output_type": "stream",
     "text": [
      "True\n",
      "False\n",
      "True\n"
     ]
    }
   ],
   "source": [
    "# Example - Greater than or equal (>=)\n",
    "\n",
    "print(6>=5)\n",
    "print(4>=5)\n",
    "print(5>=5)"
   ]
  },
  {
   "cell_type": "code",
   "execution_count": 11,
   "id": "1cb9ca2e",
   "metadata": {},
   "outputs": [
    {
     "name": "stdout",
     "output_type": "stream",
     "text": [
      "True\n",
      "False\n"
     ]
    }
   ],
   "source": [
    "# Example - Equal to ( == )\n",
    "\n",
    "\n",
    "print('rohit' == 'rohit')\n",
    "print('abc' == 'cba')"
   ]
  },
  {
   "cell_type": "code",
   "execution_count": 12,
   "id": "6f934461",
   "metadata": {},
   "outputs": [
    {
     "name": "stdout",
     "output_type": "stream",
     "text": [
      "False\n",
      "True\n"
     ]
    }
   ],
   "source": [
    "# Example - Not equal to ( != )\n",
    "\n",
    "print('rohit' != 'rohit')\n",
    "print('abc' != 'cba')"
   ]
  },
  {
   "cell_type": "markdown",
   "id": "50736ea7",
   "metadata": {},
   "source": [
    "### Q6. How do you tell the difference between the equal to and assignment operators?Describe a condition and when you would use one."
   ]
  },
  {
   "cell_type": "markdown",
   "id": "8e7de334",
   "metadata": {},
   "source": [
    "### Answer -\n",
    "\n",
    "##### Equal to( = = )\n",
    "\n",
    "- The ‘==’ operator checks whether the two given operands are equal or not. If so, it returns true. Otherwise it returns false.\n",
    "\n",
    "- For Example"
   ]
  },
  {
   "cell_type": "code",
   "execution_count": 13,
   "id": "afe65da6",
   "metadata": {},
   "outputs": [
    {
     "data": {
      "text/plain": [
       "True"
      ]
     },
     "execution_count": 13,
     "metadata": {},
     "output_type": "execute_result"
    }
   ],
   "source": [
    "a=5\n",
    "b=5\n",
    "a == b"
   ]
  },
  {
   "cell_type": "markdown",
   "id": "3c8a63db",
   "metadata": {},
   "source": [
    "##### Assignment operator(=)\n",
    "\n",
    "- The “=” is an assignment operator is used to assign the value on the right to the variable on the left.\n",
    "\n",
    "- For example:"
   ]
  },
  {
   "cell_type": "code",
   "execution_count": 14,
   "id": "39576eaa",
   "metadata": {},
   "outputs": [
    {
     "name": "stdout",
     "output_type": "stream",
     "text": [
      "50 20 rohit\n"
     ]
    }
   ],
   "source": [
    "a = 50\n",
    "b = 20\n",
    "c= 'rohit'\n",
    "\n",
    "print(a,b,c)"
   ]
  },
  {
   "cell_type": "markdown",
   "id": "39683057",
   "metadata": {},
   "source": [
    "### Q7. Identify the three blocks in this code:"
   ]
  },
  {
   "cell_type": "markdown",
   "id": "6613004a",
   "metadata": {},
   "source": [
    "- spam = 0\n",
    "- if spam == 10:\n",
    "-   print('eggs')\n",
    "- if spam > 5:\n",
    "-    print('bacon')\n",
    "- else:\n",
    "-    print('ham')\n",
    "-    print('spam')\n",
    "-    print('spam')"
   ]
  },
  {
   "cell_type": "markdown",
   "id": "68a6e698",
   "metadata": {},
   "source": [
    "### Answer -"
   ]
  },
  {
   "cell_type": "code",
   "execution_count": 16,
   "id": "f769a594",
   "metadata": {},
   "outputs": [
    {
     "name": "stdout",
     "output_type": "stream",
     "text": [
      "ham\n",
      "spam\n",
      "spam\n"
     ]
    }
   ],
   "source": [
    "spam = 0\n",
    "# First Block\n",
    "\n",
    "if spam == 10:\n",
    "    print('eggs')\n",
    "    \n",
    "    \n",
    "# Second Block\n",
    "if spam > 5:\n",
    "    print('bacon')\n",
    "    \n",
    "    \n",
    "# Third Block\n",
    "else:\n",
    "    print('ham')\n",
    "    print('spam')\n",
    "    print('spam')"
   ]
  },
  {
   "cell_type": "markdown",
   "id": "da0f0319",
   "metadata": {},
   "source": [
    "### Q8. Write code that prints Hello if 1 is stored in spam, prints Howdy if 2 is stored in spam, and prints Greetings! if anything else is stored in spam."
   ]
  },
  {
   "cell_type": "markdown",
   "id": "20fa29df",
   "metadata": {},
   "source": [
    "### Answer-"
   ]
  },
  {
   "cell_type": "code",
   "execution_count": 17,
   "id": "1a7366b2",
   "metadata": {},
   "outputs": [],
   "source": [
    "def func(spam):\n",
    "    if spam == 1:\n",
    "        print(\"Hello\")\n",
    "    elif spam == 2:\n",
    "        print(\"Howdy\")\n",
    "    else:\n",
    "        print(\"Greetings!\")"
   ]
  },
  {
   "cell_type": "code",
   "execution_count": 18,
   "id": "4952bff0",
   "metadata": {},
   "outputs": [
    {
     "name": "stdout",
     "output_type": "stream",
     "text": [
      "Hello\n",
      "Howdy\n",
      "Greetings!\n"
     ]
    }
   ],
   "source": [
    "func(1)\n",
    "func(2)\n",
    "func(3)"
   ]
  },
  {
   "cell_type": "code",
   "execution_count": 19,
   "id": "06137803",
   "metadata": {},
   "outputs": [
    {
     "name": "stdout",
     "output_type": "stream",
     "text": [
      "Greetings!\n"
     ]
    }
   ],
   "source": [
    "func(\"abc\")"
   ]
  },
  {
   "cell_type": "code",
   "execution_count": 20,
   "id": "1c70308b",
   "metadata": {},
   "outputs": [
    {
     "name": "stdout",
     "output_type": "stream",
     "text": [
      "Greetings!\n"
     ]
    }
   ],
   "source": [
    "func(67.56)"
   ]
  },
  {
   "cell_type": "markdown",
   "id": "62cad7cb",
   "metadata": {},
   "source": [
    "### Q9. If your programme is stuck in an endless loop, what keys you’ll press?"
   ]
  },
  {
   "cell_type": "markdown",
   "id": "57b02786",
   "metadata": {},
   "source": [
    "### Answer - \n",
    "\n",
    "- CTRL+C"
   ]
  },
  {
   "cell_type": "markdown",
   "id": "f2ad58a0",
   "metadata": {},
   "source": [
    "### Q10. How can you tell the difference between break and continue?"
   ]
  },
  {
   "cell_type": "markdown",
   "id": "a4a44561",
   "metadata": {},
   "source": [
    "### Answer-"
   ]
  },
  {
   "cell_type": "markdown",
   "id": "3b6935e6",
   "metadata": {},
   "source": [
    "##### break - \n",
    "\n",
    "- The break statement is used to terminate the loop or statement in which it is present. \n",
    "- After that, the control will pass to the statements that are present after the break statement, if available. \n",
    "- If the break statement is present in the nested loop, then it terminates only those loops which contains break statement.\n",
    "\n",
    "##### Example - "
   ]
  },
  {
   "cell_type": "code",
   "execution_count": 21,
   "id": "1a7b8c92",
   "metadata": {},
   "outputs": [],
   "source": [
    "def func_x():\n",
    "    for i in range(100):\n",
    "        print(i)\n",
    "        if i == 10:\n",
    "            break     \n",
    "    print(\"Out from For loop\")    "
   ]
  },
  {
   "cell_type": "code",
   "execution_count": 22,
   "id": "9720a759",
   "metadata": {},
   "outputs": [
    {
     "name": "stdout",
     "output_type": "stream",
     "text": [
      "0\n",
      "1\n",
      "2\n",
      "3\n",
      "4\n",
      "5\n",
      "6\n",
      "7\n",
      "8\n",
      "9\n",
      "10\n",
      "Out from For loop\n"
     ]
    }
   ],
   "source": [
    "func_x()"
   ]
  },
  {
   "cell_type": "markdown",
   "id": "724c86b0",
   "metadata": {},
   "source": [
    "##### Continue -\n",
    "\n",
    "- Continue is also a loop control statement just like the break statement. \n",
    "- continue statement is opposite to that of break statement, instead of terminating the loop, it forces to execute the next iteration of the loop.\n",
    "- As the name suggests the continue statement forces the loop to continue or execute the next iteration. When the continue statement is executed in the loop, the code inside the loop following the continue statement will be skipped and the next iteration of the loop will begin.\n",
    "\n",
    "##### Example -"
   ]
  },
  {
   "cell_type": "code",
   "execution_count": 23,
   "id": "9e67070c",
   "metadata": {},
   "outputs": [],
   "source": [
    "def func_y():\n",
    "    for i in range(20):\n",
    "        if i == 10:\n",
    "            print(\"Continue in For loop\") \n",
    "            continue \n",
    "        print(i)      "
   ]
  },
  {
   "cell_type": "code",
   "execution_count": 24,
   "id": "5b4bcc99",
   "metadata": {},
   "outputs": [
    {
     "name": "stdout",
     "output_type": "stream",
     "text": [
      "0\n",
      "1\n",
      "2\n",
      "3\n",
      "4\n",
      "5\n",
      "6\n",
      "7\n",
      "8\n",
      "9\n",
      "Continue in For loop\n",
      "11\n",
      "12\n",
      "13\n",
      "14\n",
      "15\n",
      "16\n",
      "17\n",
      "18\n",
      "19\n"
     ]
    }
   ],
   "source": [
    "func_y()"
   ]
  },
  {
   "cell_type": "markdown",
   "id": "0c9d0ff7",
   "metadata": {},
   "source": [
    "### Q11. In a for loop, what is the difference between range(10), range(0, 10), and range(0, 10, 1)?"
   ]
  },
  {
   "cell_type": "markdown",
   "id": "fd809b9d",
   "metadata": {},
   "source": [
    "### Answer - \n",
    "\n",
    "- There is no difference between them , they all are same "
   ]
  },
  {
   "cell_type": "code",
   "execution_count": 25,
   "id": "01735ab4",
   "metadata": {},
   "outputs": [
    {
     "data": {
      "text/plain": [
       "[0, 1, 2, 3, 4, 5, 6, 7, 8, 9]"
      ]
     },
     "execution_count": 25,
     "metadata": {},
     "output_type": "execute_result"
    }
   ],
   "source": [
    "list(range(10))"
   ]
  },
  {
   "cell_type": "code",
   "execution_count": 26,
   "id": "1c9e44b1",
   "metadata": {},
   "outputs": [
    {
     "data": {
      "text/plain": [
       "[0, 1, 2, 3, 4, 5, 6, 7, 8, 9]"
      ]
     },
     "execution_count": 26,
     "metadata": {},
     "output_type": "execute_result"
    }
   ],
   "source": [
    "list(range(0,10))"
   ]
  },
  {
   "cell_type": "code",
   "execution_count": 27,
   "id": "60d9f8aa",
   "metadata": {},
   "outputs": [
    {
     "data": {
      "text/plain": [
       "[0, 1, 2, 3, 4, 5, 6, 7, 8, 9]"
      ]
     },
     "execution_count": 27,
     "metadata": {},
     "output_type": "execute_result"
    }
   ],
   "source": [
    "list(range(0,10,1))"
   ]
  },
  {
   "cell_type": "markdown",
   "id": "934ec252",
   "metadata": {},
   "source": [
    "### Q12. Write a short program that prints the numbers 1 to 10 using a for loop. Then write an equivalent program that prints the numbers 1 to 10 using a while loop."
   ]
  },
  {
   "cell_type": "markdown",
   "id": "be747e9b",
   "metadata": {},
   "source": [
    "### Answer -"
   ]
  },
  {
   "cell_type": "code",
   "execution_count": 28,
   "id": "cf96153d",
   "metadata": {},
   "outputs": [],
   "source": [
    "def func1():\n",
    "    for i in range(1,11):\n",
    "        print(i)"
   ]
  },
  {
   "cell_type": "code",
   "execution_count": 29,
   "id": "ab8c418c",
   "metadata": {},
   "outputs": [
    {
     "name": "stdout",
     "output_type": "stream",
     "text": [
      "1\n",
      "2\n",
      "3\n",
      "4\n",
      "5\n",
      "6\n",
      "7\n",
      "8\n",
      "9\n",
      "10\n"
     ]
    }
   ],
   "source": [
    "func1()"
   ]
  },
  {
   "cell_type": "code",
   "execution_count": 30,
   "id": "496c59fa",
   "metadata": {},
   "outputs": [],
   "source": [
    "def func2():\n",
    "    i = 1\n",
    "    while i <= 10:\n",
    "        print(i)\n",
    "        i = i+1"
   ]
  },
  {
   "cell_type": "code",
   "execution_count": 31,
   "id": "f8f98925",
   "metadata": {},
   "outputs": [
    {
     "name": "stdout",
     "output_type": "stream",
     "text": [
      "1\n",
      "2\n",
      "3\n",
      "4\n",
      "5\n",
      "6\n",
      "7\n",
      "8\n",
      "9\n",
      "10\n"
     ]
    }
   ],
   "source": [
    "func2()"
   ]
  },
  {
   "cell_type": "markdown",
   "id": "f4543a59",
   "metadata": {},
   "source": [
    "### Q13. If you had a function named bacon() inside a module named spam, how would you call it after importing spam?"
   ]
  },
  {
   "cell_type": "markdown",
   "id": "8c56c8c7",
   "metadata": {},
   "source": [
    "### Answer-\n",
    "\n",
    "- spam.bacon()"
   ]
  },
  {
   "cell_type": "code",
   "execution_count": null,
   "id": "9b9ffec8",
   "metadata": {},
   "outputs": [],
   "source": []
  }
 ],
 "metadata": {
  "kernelspec": {
   "display_name": "Python 3 (ipykernel)",
   "language": "python",
   "name": "python3"
  },
  "language_info": {
   "codemirror_mode": {
    "name": "ipython",
    "version": 3
   },
   "file_extension": ".py",
   "mimetype": "text/x-python",
   "name": "python",
   "nbconvert_exporter": "python",
   "pygments_lexer": "ipython3",
   "version": "3.9.7"
  }
 },
 "nbformat": 4,
 "nbformat_minor": 5
}
