{
 "cells": [
  {
   "cell_type": "markdown",
   "id": "26532894",
   "metadata": {},
   "source": [
    "# Assignment - 4 Solution"
   ]
  },
  {
   "cell_type": "markdown",
   "id": "071d591a",
   "metadata": {},
   "source": [
    "### Q1 - What exactly is [ ]?"
   ]
  },
  {
   "cell_type": "markdown",
   "id": "07f96f96",
   "metadata": {},
   "source": [
    "- The empty list value, which is a list value that contains no items. This is similar to how '' is the empty string value."
   ]
  },
  {
   "cell_type": "markdown",
   "id": "d2fd15a9",
   "metadata": {},
   "source": [
    "### Q2 - In a list of values stored in a variable called spam, how would you assign the value 'hello' as the third value? (Assume [2, 4, 6, 8, 10] are in spam.)"
   ]
  },
  {
   "cell_type": "markdown",
   "id": "494d91b4",
   "metadata": {},
   "source": [
    "- spam[2] = 'hello'"
   ]
  },
  {
   "cell_type": "markdown",
   "id": "4801b04b",
   "metadata": {},
   "source": [
    "## Let's pretend the spam includes the list ['a', 'b', 'c', 'd'] for the next three queries."
   ]
  },
  {
   "cell_type": "markdown",
   "id": "75f63688",
   "metadata": {},
   "source": [
    "### Q3 - What is the value of spam[int(int('3' * 2) / 11)]?"
   ]
  },
  {
   "cell_type": "code",
   "execution_count": 30,
   "id": "814d1b76",
   "metadata": {},
   "outputs": [
    {
     "data": {
      "text/plain": [
       "'d'"
      ]
     },
     "execution_count": 30,
     "metadata": {},
     "output_type": "execute_result"
    }
   ],
   "source": [
    "spam = ['a', 'b', 'c', 'd']\n",
    "\n",
    "spam[int(int('3' * 2) / 11)]"
   ]
  },
  {
   "cell_type": "markdown",
   "id": "9ca0fce4",
   "metadata": {},
   "source": [
    "### Q4 - What is the value of spam[-1]?"
   ]
  },
  {
   "cell_type": "code",
   "execution_count": 31,
   "id": "4528968e",
   "metadata": {},
   "outputs": [
    {
     "data": {
      "text/plain": [
       "'d'"
      ]
     },
     "execution_count": 31,
     "metadata": {},
     "output_type": "execute_result"
    }
   ],
   "source": [
    "spam[-1]"
   ]
  },
  {
   "cell_type": "markdown",
   "id": "11ad8fd0",
   "metadata": {},
   "source": [
    "### Q5 -  What is the value of spam[:2]?"
   ]
  },
  {
   "cell_type": "code",
   "execution_count": 32,
   "id": "aaa085b2",
   "metadata": {},
   "outputs": [
    {
     "data": {
      "text/plain": [
       "['a', 'b']"
      ]
     },
     "execution_count": 32,
     "metadata": {},
     "output_type": "execute_result"
    }
   ],
   "source": [
    "spam[:2]"
   ]
  },
  {
   "cell_type": "markdown",
   "id": "eef2e70b",
   "metadata": {},
   "source": [
    "## Let's pretend bacon has the list [3.14, 'cat', 11, 'cat', True] for the next three questions."
   ]
  },
  {
   "cell_type": "markdown",
   "id": "394d1392",
   "metadata": {},
   "source": [
    "### Q6 - What is the value of bacon.index('cat')?"
   ]
  },
  {
   "cell_type": "code",
   "execution_count": 33,
   "id": "86b3ee2c",
   "metadata": {},
   "outputs": [
    {
     "data": {
      "text/plain": [
       "1"
      ]
     },
     "execution_count": 33,
     "metadata": {},
     "output_type": "execute_result"
    }
   ],
   "source": [
    "bacon = [3.14, 'cat', 11, 'cat', True]\n",
    "\n",
    "bacon.index('cat')"
   ]
  },
  {
   "cell_type": "markdown",
   "id": "8bd03ff3",
   "metadata": {},
   "source": [
    "### Q7 - How does bacon.append(99) change the look of the list value in bacon?"
   ]
  },
  {
   "cell_type": "code",
   "execution_count": 34,
   "id": "d23de363",
   "metadata": {},
   "outputs": [],
   "source": [
    "bacon.append(99)"
   ]
  },
  {
   "cell_type": "code",
   "execution_count": 35,
   "id": "85b54860",
   "metadata": {},
   "outputs": [
    {
     "data": {
      "text/plain": [
       "[3.14, 'cat', 11, 'cat', True, 99]"
      ]
     },
     "execution_count": 35,
     "metadata": {},
     "output_type": "execute_result"
    }
   ],
   "source": [
    "bacon"
   ]
  },
  {
   "cell_type": "markdown",
   "id": "d94946e1",
   "metadata": {},
   "source": [
    "### Q8 - How does bacon.remove('cat') change the look of the list in bacon?"
   ]
  },
  {
   "cell_type": "code",
   "execution_count": 36,
   "id": "f47ddc74",
   "metadata": {},
   "outputs": [],
   "source": [
    "bacon.remove('cat') "
   ]
  },
  {
   "cell_type": "code",
   "execution_count": 37,
   "id": "1de9c35c",
   "metadata": {},
   "outputs": [
    {
     "data": {
      "text/plain": [
       "[3.14, 11, 'cat', True, 99]"
      ]
     },
     "execution_count": 37,
     "metadata": {},
     "output_type": "execute_result"
    }
   ],
   "source": [
    "bacon"
   ]
  },
  {
   "cell_type": "markdown",
   "id": "55392b5a",
   "metadata": {},
   "source": [
    "### Q9 - What are the list concatenation and list replication operators?"
   ]
  },
  {
   "cell_type": "markdown",
   "id": "ad5a0271",
   "metadata": {},
   "source": [
    "- The operator for list concatenation is +, while the operator for replication is *"
   ]
  },
  {
   "cell_type": "markdown",
   "id": "1c1e5099",
   "metadata": {},
   "source": [
    "### Q10 - What is difference between the list methods append() and insert()?"
   ]
  },
  {
   "cell_type": "markdown",
   "id": "8e522140",
   "metadata": {},
   "source": [
    "- While append() will add values only to the end of a list, insert() can add them anywhere in the list."
   ]
  },
  {
   "cell_type": "markdown",
   "id": "52949930",
   "metadata": {},
   "source": [
    "### Q11 - What are the two methods for removing items from a list?"
   ]
  },
  {
   "cell_type": "markdown",
   "id": "aedbd90e",
   "metadata": {},
   "source": [
    "- The 'del' statement and the remove() list method are two ways to remove values from a list."
   ]
  },
  {
   "cell_type": "markdown",
   "id": "f87e5fc3",
   "metadata": {},
   "source": [
    "### Q12 - Describe how list values and string values are identical."
   ]
  },
  {
   "cell_type": "markdown",
   "id": "c95d17f4",
   "metadata": {},
   "source": [
    "- Both lists and strings can be passed to len(), have indexes and slices, be used in for loops, be concatenated or replicated, and be used with the in and not in operators."
   ]
  },
  {
   "cell_type": "markdown",
   "id": "2d44e715",
   "metadata": {},
   "source": [
    "### Q13 - What's the difference between tuples and lists?"
   ]
  },
  {
   "cell_type": "markdown",
   "id": "df8ee0e4",
   "metadata": {},
   "source": [
    "- Lists are mutable.\n",
    "- Lists can have values added, removed, or changed. \n",
    "- Lists use the square brackets [1,2,3,4].\n",
    "##### ---------------------------------------------------------------------------\n",
    "- Tuples are immutable.\n",
    "- Tuples cannot be changed at all.\n",
    "- Tuples are written using parentheses (1,2,3,4)."
   ]
  },
  {
   "cell_type": "markdown",
   "id": "46b25864",
   "metadata": {},
   "source": [
    "### Q14 - How do you type a tuple value that only contains the integer 42?"
   ]
  },
  {
   "cell_type": "markdown",
   "id": "33621f8c",
   "metadata": {},
   "source": [
    "- (42,)"
   ]
  },
  {
   "cell_type": "markdown",
   "id": "9440cb9d",
   "metadata": {},
   "source": [
    "### Q15 - How do you get a list value's tuple form? How do you get a tuple value's list form?"
   ]
  },
  {
   "cell_type": "markdown",
   "id": "88fe264a",
   "metadata": {},
   "source": [
    "- By using The tuple() and list() functions, respectively."
   ]
  },
  {
   "cell_type": "code",
   "execution_count": 38,
   "id": "46a3192c",
   "metadata": {},
   "outputs": [
    {
     "data": {
      "text/plain": [
       "(1, 2, 3, 4)"
      ]
     },
     "execution_count": 38,
     "metadata": {},
     "output_type": "execute_result"
    }
   ],
   "source": [
    "l = [1,2,3,4]\n",
    "tuple(l)"
   ]
  },
  {
   "cell_type": "code",
   "execution_count": 39,
   "id": "d2337bcd",
   "metadata": {},
   "outputs": [
    {
     "data": {
      "text/plain": [
       "[1, 2, 3, 4]"
      ]
     },
     "execution_count": 39,
     "metadata": {},
     "output_type": "execute_result"
    }
   ],
   "source": [
    "t = (1,2,3,4)\n",
    "list(t)"
   ]
  },
  {
   "cell_type": "markdown",
   "id": "2b2fb76d",
   "metadata": {},
   "source": [
    "### Q16 - Variables that \"contain\" list values are not necessarily lists themselves. Instead, what do they contain?"
   ]
  },
  {
   "cell_type": "markdown",
   "id": "47f9a85c",
   "metadata": {},
   "source": [
    "- They contain references to list values."
   ]
  },
  {
   "cell_type": "markdown",
   "id": "73ed278d",
   "metadata": {},
   "source": [
    "### Q17 - How do you distinguish between copy.copy() and copy.deepcopy()?"
   ]
  },
  {
   "cell_type": "markdown",
   "id": "3d697b14",
   "metadata": {},
   "source": [
    "- The copy.copy() function will do a shallow copy of a list.\n",
    "- The copy.deepcopy() function will do a deep copy of a list. \n",
    "- Only copy.deepcopy() will duplicate any lists inside the list."
   ]
  },
  {
   "cell_type": "code",
   "execution_count": null,
   "id": "8ed94dec",
   "metadata": {},
   "outputs": [],
   "source": []
  }
 ],
 "metadata": {
  "kernelspec": {
   "display_name": "Python 3 (ipykernel)",
   "language": "python",
   "name": "python3"
  },
  "language_info": {
   "codemirror_mode": {
    "name": "ipython",
    "version": 3
   },
   "file_extension": ".py",
   "mimetype": "text/x-python",
   "name": "python",
   "nbconvert_exporter": "python",
   "pygments_lexer": "ipython3",
   "version": "3.9.7"
  }
 },
 "nbformat": 4,
 "nbformat_minor": 5
}
