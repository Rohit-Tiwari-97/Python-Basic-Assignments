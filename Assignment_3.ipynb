{
 "cells": [
  {
   "cell_type": "markdown",
   "id": "413f1207",
   "metadata": {},
   "source": [
    "# Assignment -3 Solution"
   ]
  },
  {
   "cell_type": "markdown",
   "id": "fc609947",
   "metadata": {},
   "source": [
    "### Q1 - Why are functions advantageous to have in your programs?"
   ]
  },
  {
   "cell_type": "markdown",
   "id": "02c79a63",
   "metadata": {},
   "source": [
    "### Answer : \n",
    "- Function helps to divide the large programs into small groups so that we can read the code, and debug the program faster and better.\n",
    "- Functions stop us from writing the same logic various times. We can bind the logic in one def and then call the same over and over.\n",
    "- Many persons can work on the same program by assigning different methods to each of them.\n",
    "- It encourages us to call the same method with different inputs over multiple times.\n",
    "- Functions reduce the need for duplicate code. This makes programs shorter, easier to read, and easier to update."
   ]
  },
  {
   "cell_type": "markdown",
   "id": "a22264f3",
   "metadata": {},
   "source": [
    "### Q2 - When does the code in a function run: when it's specified or when it's called?"
   ]
  },
  {
   "cell_type": "markdown",
   "id": "34010e8a",
   "metadata": {},
   "source": [
    "### Answer :\n",
    "- when it's called"
   ]
  },
  {
   "cell_type": "markdown",
   "id": "3882ec15",
   "metadata": {},
   "source": [
    "### Q3 -  What statement creates a function?"
   ]
  },
  {
   "cell_type": "markdown",
   "id": "b5e3caa8",
   "metadata": {},
   "source": [
    "### Answer :\n",
    "- def  statement "
   ]
  },
  {
   "cell_type": "markdown",
   "id": "8e9aa0b1",
   "metadata": {},
   "source": [
    "### Q4 - What is the difference between a function and a function call?"
   ]
  },
  {
   "cell_type": "markdown",
   "id": "49a0f32e",
   "metadata": {},
   "source": [
    "### Answer :\n",
    "- A function consists of the def statement and the code in its def clause.\n",
    "\n",
    "- A function call is what moves the program execution into the function, and the function call evaluates to the function's return value."
   ]
  },
  {
   "cell_type": "markdown",
   "id": "056b243c",
   "metadata": {},
   "source": [
    "### Q5 - How many global scopes are there in a Python program? How many local scopes?"
   ]
  },
  {
   "cell_type": "markdown",
   "id": "2f6238cf",
   "metadata": {},
   "source": [
    "### Answer :\n",
    "- There is one global scope, and a local scope is created whenever a function is called."
   ]
  },
  {
   "cell_type": "markdown",
   "id": "3eb20a5c",
   "metadata": {},
   "source": [
    "### Q6 -  What happens to variables in a local scope when the function call returns?"
   ]
  },
  {
   "cell_type": "markdown",
   "id": "2917fdcc",
   "metadata": {},
   "source": [
    "### Answer :\n",
    "- When a function returns, the local scope is destroyed, and all the variables in it are forgotten."
   ]
  },
  {
   "cell_type": "markdown",
   "id": "81c14a35",
   "metadata": {},
   "source": [
    "### Q7 - What is the concept of a return value? Is it possible to have a return value in an expression?"
   ]
  },
  {
   "cell_type": "markdown",
   "id": "6707f5a2",
   "metadata": {},
   "source": [
    "### Answer :\n",
    "- A return value is the value that a function call evaluates to. Like any value, a return value can be used as part of an expression."
   ]
  },
  {
   "cell_type": "markdown",
   "id": "74a056fd",
   "metadata": {},
   "source": [
    "### Q8 -  If a function does not have a return statement, what is the return value of a call to that function?"
   ]
  },
  {
   "cell_type": "markdown",
   "id": "2c0fcc0e",
   "metadata": {},
   "source": [
    "### Answer : \n",
    "- If there is no return statement for a function, its return value is None."
   ]
  },
  {
   "cell_type": "markdown",
   "id": "38bdcbed",
   "metadata": {},
   "source": [
    "### Q9 - How do you make a function variable refer to the global variable?"
   ]
  },
  {
   "cell_type": "markdown",
   "id": "d266f453",
   "metadata": {},
   "source": [
    "### Answer : \n",
    "- A global keywor/statement will force a variable in a function to refer to the global variable."
   ]
  },
  {
   "cell_type": "markdown",
   "id": "d87662fd",
   "metadata": {},
   "source": [
    "### Q10 - What is the data type of None?"
   ]
  },
  {
   "cell_type": "markdown",
   "id": "5b1ac55a",
   "metadata": {},
   "source": [
    "### Answer : \n",
    "- The data type of None is NoneType."
   ]
  },
  {
   "cell_type": "markdown",
   "id": "af366951",
   "metadata": {},
   "source": [
    "### Q11 - What does the sentence import areallyourpetsnamederic do?"
   ]
  },
  {
   "cell_type": "markdown",
   "id": "54349ad7",
   "metadata": {},
   "source": [
    "### Answer : \n",
    "- That import statement imports a module named areallyourpetsnamederic. (This isn’t a real Python module, by the way)"
   ]
  },
  {
   "cell_type": "markdown",
   "id": "d88650a0",
   "metadata": {},
   "source": [
    "### Q12 - If you had a bacon() feature in a spam module, what would you call it after importing spam?"
   ]
  },
  {
   "cell_type": "markdown",
   "id": "91d9faab",
   "metadata": {},
   "source": [
    "### Answer : \n",
    "-  spam.bacon()"
   ]
  },
  {
   "cell_type": "markdown",
   "id": "2a8f9190",
   "metadata": {},
   "source": [
    "### Q13 - What can you do to save a programme from crashing if it encounters an error?"
   ]
  },
  {
   "cell_type": "markdown",
   "id": "d0deb990",
   "metadata": {},
   "source": [
    "### Answer : \n",
    "- Place the line of code that might cause an error in a try clause."
   ]
  },
  {
   "cell_type": "markdown",
   "id": "899550b3",
   "metadata": {},
   "source": [
    "### Q14 - What is the purpose of the try clause? What is the purpose of the except clause?"
   ]
  },
  {
   "cell_type": "markdown",
   "id": "7388ab58",
   "metadata": {},
   "source": [
    "### Answer : \n",
    "- The code that could potentially cause an error goes in the try clause.\n",
    "\n",
    "- The code that executes if an error happens goes in the except clause."
   ]
  },
  {
   "cell_type": "code",
   "execution_count": null,
   "id": "0b017a36",
   "metadata": {},
   "outputs": [],
   "source": []
  }
 ],
 "metadata": {
  "kernelspec": {
   "display_name": "Python 3 (ipykernel)",
   "language": "python",
   "name": "python3"
  },
  "language_info": {
   "codemirror_mode": {
    "name": "ipython",
    "version": 3
   },
   "file_extension": ".py",
   "mimetype": "text/x-python",
   "name": "python",
   "nbconvert_exporter": "python",
   "pygments_lexer": "ipython3",
   "version": "3.9.7"
  }
 },
 "nbformat": 4,
 "nbformat_minor": 5
}
