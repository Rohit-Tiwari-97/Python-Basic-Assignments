{
 "cells": [
  {
   "cell_type": "markdown",
   "id": "df953fb2",
   "metadata": {},
   "source": [
    "# Assignment - 7 Solution"
   ]
  },
  {
   "cell_type": "markdown",
   "id": "d210f331",
   "metadata": {},
   "source": [
    "### Q1. What is the name of the feature responsible for generating Regex objects?"
   ]
  },
  {
   "cell_type": "markdown",
   "id": "d08c220b",
   "metadata": {},
   "source": [
    "- The re.compile() function returns Regex objects."
   ]
  },
  {
   "cell_type": "markdown",
   "id": "5e7daddd",
   "metadata": {},
   "source": [
    "### Q2. Why do raw strings often appear in Regex objects?"
   ]
  },
  {
   "cell_type": "markdown",
   "id": "714d1b9f",
   "metadata": {},
   "source": [
    "- Raw strings are used so that backslashes do not have to be escaped."
   ]
  },
  {
   "cell_type": "markdown",
   "id": "b63cdf55",
   "metadata": {},
   "source": [
    "### Q3. What is the return value of the search() method?"
   ]
  },
  {
   "cell_type": "markdown",
   "id": "a81ef7f2",
   "metadata": {},
   "source": [
    "- The search() method returns Match objects."
   ]
  },
  {
   "cell_type": "markdown",
   "id": "aaa9a6f4",
   "metadata": {},
   "source": [
    "### Q4. From a Match item, how do you get the actual strings that match the pattern?"
   ]
  },
  {
   "cell_type": "markdown",
   "id": "1516ade7",
   "metadata": {},
   "source": [
    "- The group() method returns strings of the matched text."
   ]
  },
  {
   "cell_type": "markdown",
   "id": "fc1fd9af",
   "metadata": {},
   "source": [
    "### Q5. In the regex which created from the r'(\\d\\d\\d)-(\\d\\d\\d-\\d\\d\\d\\d)&#39;, what does group zero cover?Group 2? Group 1?"
   ]
  },
  {
   "cell_type": "markdown",
   "id": "e71236a0",
   "metadata": {},
   "source": [
    "- Group 0 is the entire match, group 1 covers the first set of parentheses, and group 2 covers the second set of parentheses."
   ]
  },
  {
   "cell_type": "markdown",
   "id": "e404d387",
   "metadata": {},
   "source": [
    "### Q6. In standard expression syntax, parentheses and intervals have distinct meanings. How can you tell a regex that you want it to fit real parentheses and periods?"
   ]
  },
  {
   "cell_type": "markdown",
   "id": "46061139",
   "metadata": {},
   "source": [
    "- Periods and parentheses can be escaped with a backslash: \\\\., \\\\ (, and \\\\ )."
   ]
  },
  {
   "cell_type": "markdown",
   "id": "e81bbeca",
   "metadata": {},
   "source": [
    "### Q7. The findall() method returns a string list or a list of string tuples. What causes it to return one of the two options?"
   ]
  },
  {
   "cell_type": "markdown",
   "id": "185ffcd7",
   "metadata": {},
   "source": [
    "- If the regex has no groups, a list of strings is returned. If the regex has groups, a list of tuples of strings is returned. "
   ]
  },
  {
   "cell_type": "markdown",
   "id": "3aa47755",
   "metadata": {},
   "source": [
    "### Q8. In standard expressions, what does the | character mean?"
   ]
  },
  {
   "cell_type": "markdown",
   "id": "25369162",
   "metadata": {},
   "source": [
    "- The | character signifies matching “either, or” between two groups. "
   ]
  },
  {
   "cell_type": "markdown",
   "id": "ee0e88ed",
   "metadata": {},
   "source": [
    "### Q9. In regular expressions, what does the character stand for?"
   ]
  },
  {
   "cell_type": "markdown",
   "id": "b80a6984",
   "metadata": {},
   "source": [
    "- The character can either mean “match zero or one of the preceding group” or be used to signify nongreedy matching."
   ]
  },
  {
   "cell_type": "markdown",
   "id": "808813d6",
   "metadata": {},
   "source": [
    "### Q10. In regular expressions, what is the difference between the + and * characters?"
   ]
  },
  {
   "cell_type": "markdown",
   "id": "fb5c78d1",
   "metadata": {},
   "source": [
    "- The + matches one or more. The * matches zero or more."
   ]
  },
  {
   "cell_type": "markdown",
   "id": "e7793221",
   "metadata": {},
   "source": [
    "### Q11. What is the difference between {4} and {4,5} in regular expression?"
   ]
  },
  {
   "cell_type": "markdown",
   "id": "5afff0f8",
   "metadata": {},
   "source": [
    "- The {4} matches exactly four instances of the preceding group. The {4,5} matches between four and five instances."
   ]
  },
  {
   "cell_type": "markdown",
   "id": "ba6432dd",
   "metadata": {},
   "source": [
    "### Q12. What do you mean by the \\d, \\w, and \\s shorthand character classes signify in regular expressions?"
   ]
  },
  {
   "cell_type": "markdown",
   "id": "6b177bc0",
   "metadata": {},
   "source": [
    "- The \\d, \\w, and \\s shorthand character classes match a single digit, word, or space character, respectively."
   ]
  },
  {
   "cell_type": "markdown",
   "id": "9d0e2e51",
   "metadata": {},
   "source": [
    "### Q13. What do means by \\D, \\W, and \\S shorthand character classes signify in regular expressions?"
   ]
  },
  {
   "cell_type": "markdown",
   "id": "dcc467df",
   "metadata": {},
   "source": [
    "- The \\D, \\W, and \\S shorthand character classes match a single character that is not a digit, word, or space character, respectively."
   ]
  },
  {
   "cell_type": "markdown",
   "id": "1cba8bdb",
   "metadata": {},
   "source": [
    "### Q14. What is the difference between .*? and .*?"
   ]
  },
  {
   "cell_type": "markdown",
   "id": "38a7e433",
   "metadata": {},
   "source": [
    "- The .* performs a greedy match, and the .*? performs a nongreedy match."
   ]
  },
  {
   "cell_type": "markdown",
   "id": "7fa9846c",
   "metadata": {},
   "source": [
    "### Q15. What is the syntax for matching both numbers and lowercase letters with a character class?"
   ]
  },
  {
   "cell_type": "markdown",
   "id": "7a8dba83",
   "metadata": {},
   "source": [
    "- Either [0-9a-z] or [a-z0-9]"
   ]
  },
  {
   "cell_type": "markdown",
   "id": "66e3c7eb",
   "metadata": {},
   "source": [
    "### Q16. What is the procedure for making a normal expression in regax case insensitive?"
   ]
  },
  {
   "cell_type": "markdown",
   "id": "9a9c34e6",
   "metadata": {},
   "source": [
    "- Passing re.I or re.IGNORECASE as the second argument to re.compile() will make the matching case insensitive."
   ]
  },
  {
   "cell_type": "markdown",
   "id": "a6bd5ef3",
   "metadata": {},
   "source": [
    "### Q17. What does the . character normally match? What does it match if re.DOTALL is passed as 2nd argument in re.compile()?"
   ]
  },
  {
   "cell_type": "markdown",
   "id": "c0e47b80",
   "metadata": {},
   "source": [
    "- The . character normally matches any character except the newline character. If re.DOTALL is passed as the second argument to re.compile(), then the dot will also match newline characters."
   ]
  },
  {
   "cell_type": "markdown",
   "id": "88e5d1f7",
   "metadata": {},
   "source": [
    "### Q18. If numReg = re.compile(r'\\d+'), what will numRegex.sub('X', '11 drummers, 10 pipers, five rings, 4 hen') return?"
   ]
  },
  {
   "cell_type": "markdown",
   "id": "e6a0b532",
   "metadata": {},
   "source": [
    "- 'X drummers, X pipers, five rings, X hens'"
   ]
  },
  {
   "cell_type": "markdown",
   "id": "3e99dd40",
   "metadata": {},
   "source": [
    "### Q19. What does passing re.VERBOSE as the 2nd argument to re.compile() allow to do?"
   ]
  },
  {
   "cell_type": "markdown",
   "id": "5fc80865",
   "metadata": {},
   "source": [
    "- The re.VERBOSE argument allows you to add whitespace and comments to the string passed to re.compile()."
   ]
  },
  {
   "cell_type": "markdown",
   "id": "5cdcc331",
   "metadata": {},
   "source": [
    "### Q20. How would you write a regex that match a number with comma for every three digits? It must match the given following:\n",
    "- '42'\n",
    "- '1,234'\n",
    "- '6,368,745'\n",
    "\n",
    "##### but not the following:\n",
    "    \n",
    "- '12,34,567' (which has only two digits between the commas)\n",
    "- '1234' (which lacks commas)"
   ]
  },
  {
   "cell_type": "markdown",
   "id": "d422729f",
   "metadata": {},
   "source": [
    "### Answer : "
   ]
  },
  {
   "cell_type": "markdown",
   "id": "55489edb",
   "metadata": {},
   "source": [
    "- re.compile(r'^\\d{1,3}(,\\d{3})*$') will create this regex, but other regex strings can produce a similar regular  expression."
   ]
  },
  {
   "cell_type": "markdown",
   "id": "80d816fc",
   "metadata": {},
   "source": [
    "### Q21. How would you write a regex that matches the full name of someone whose last name is Watanabe? You can assume that the first name that comes before it will always be one word that begins with a capital letter. The regex must match the following:\n",
    "\n",
    "- 'Haruto Watanabe'\n",
    "- 'Alice Watanabe'\n",
    "- 'RoboCop Watanabe'\n",
    "\n",
    "##### but not the following\n",
    "\n",
    "- 'haruto Watanabe'(where the first name is not capitalized)\n",
    "- 'Mr. Watanabe'(where the preceding word has a nonletter character)\n",
    "- 'Watanabe'(which has no first name)\n",
    "- 'Haruto watanabe'(where Watanabe is not capitalized)\n"
   ]
  },
  {
   "cell_type": "markdown",
   "id": "d0922b68",
   "metadata": {},
   "source": [
    "### Answer : "
   ]
  },
  {
   "cell_type": "markdown",
   "id": "c0342493",
   "metadata": {},
   "source": [
    "- re.compile(r'[A-Z][a-z]*\\sNakamoto')"
   ]
  },
  {
   "cell_type": "markdown",
   "id": "dda63f08",
   "metadata": {},
   "source": [
    "### Q22. How would you write a regex that matches a sentence where the first word is either Alice, Bob,or Carol; the second word is either eats, pets, or throws; the third word is apples, cats, or baseballs; and the sentence ends with a period? This regex should be case-insensitive. It must match the following:\n",
    "\n",
    "- 'Alice eats apples'\n",
    "- 'Bob pets cats'\n",
    "- 'Carol throws baseballs'\n",
    "- 'Alice throws Apples'\n",
    "- 'BOB EATS CATS'\n",
    "\n",
    "##### but not the following:\n",
    "\n",
    "- 'RoboCop eats apples'\n",
    "- 'ALICE THROWS FOOTBALLS'\n",
    "- 'Carol eats 7 cats'"
   ]
  },
  {
   "cell_type": "markdown",
   "id": "859e87ca",
   "metadata": {},
   "source": [
    "### Answer :"
   ]
  },
  {
   "cell_type": "markdown",
   "id": "c9b664ad",
   "metadata": {},
   "source": [
    "- re.compile(r'(Alice|Bob|Carol)\\s(eats|pets|throws)\\s(apples|cats|baseballs)\\.', re.IGNORECASE)"
   ]
  },
  {
   "cell_type": "code",
   "execution_count": null,
   "id": "43eaca7e",
   "metadata": {},
   "outputs": [],
   "source": []
  }
 ],
 "metadata": {
  "kernelspec": {
   "display_name": "Python 3 (ipykernel)",
   "language": "python",
   "name": "python3"
  },
  "language_info": {
   "codemirror_mode": {
    "name": "ipython",
    "version": 3
   },
   "file_extension": ".py",
   "mimetype": "text/x-python",
   "name": "python",
   "nbconvert_exporter": "python",
   "pygments_lexer": "ipython3",
   "version": "3.9.7"
  }
 },
 "nbformat": 4,
 "nbformat_minor": 5
}
